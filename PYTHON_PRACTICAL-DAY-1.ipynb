{
 "cells": [
  {
   "cell_type": "code",
   "execution_count": 2,
   "id": "34e68d8f-8464-4045-8659-a838947da91f",
   "metadata": {},
   "outputs": [
    {
     "name": "stdout",
     "output_type": "stream",
     "text": [
      "hello world\n"
     ]
    }
   ],
   "source": [
    "print(\"hello world\")"
   ]
  },
  {
   "cell_type": "raw",
   "id": "4a430741-f560-41d9-920a-abf1f4c0ac9a",
   "metadata": {},
   "source": []
  },
  {
   "cell_type": "code",
   "execution_count": 12,
   "id": "a2a6bc92-e073-4efa-a4ef-82cb6be67b4d",
   "metadata": {},
   "outputs": [
    {
     "name": "stdin",
     "output_type": "stream",
     "text": [
      "Enter the Student_Marks:  75\n"
     ]
    },
    {
     "name": "stdout",
     "output_type": "stream",
     "text": [
      "Student_1ST CLASS_Pass\n"
     ]
    }
   ],
   "source": [
    "Student_Marks = int(input(\"Enter the Student_Marks: \"))\n",
    "if Student_Marks >= 70 :\n",
    "  print(\"Student_1ST CLASS_Pass\")\n",
    "    \n",
    "elif Student_Marks == 35 :\n",
    " print(\"Student_Boundry_Pass\")\n",
    "else:\n",
    "    print(\"Student_fail\")\n",
    "    "
   ]
  },
  {
   "cell_type": "code",
   "execution_count": null,
   "id": "44aebd28-0fa5-40cc-9ffe-f1792935eef4",
   "metadata": {},
   "outputs": [],
   "source": []
  },
  {
   "cell_type": "code",
   "execution_count": null,
   "id": "fbfda367-7502-4975-a1ad-a4e081c2a82b",
   "metadata": {},
   "outputs": [],
   "source": []
  }
 ],
 "metadata": {
  "kernelspec": {
   "display_name": "Python 3 (ipykernel)",
   "language": "python",
   "name": "python3"
  },
  "language_info": {
   "codemirror_mode": {
    "name": "ipython",
    "version": 3
   },
   "file_extension": ".py",
   "mimetype": "text/x-python",
   "name": "python",
   "nbconvert_exporter": "python",
   "pygments_lexer": "ipython3",
   "version": "3.13.5"
  }
 },
 "nbformat": 4,
 "nbformat_minor": 5
}
